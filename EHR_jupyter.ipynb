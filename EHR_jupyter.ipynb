{
  "cells": [
    {
      "cell_type": "code",
      "execution_count": 2,
      "metadata": {
        "id": "9QOKwZsnRTbZ"
      },
      "outputs": [],
      "source": [
        "import pandas as pd\n",
        "import numpy as np\n",
        "import json\n",
        "import os\n",
        "import transformers\n",
        "from transformers import AutoTokenizer, AutoModelForCausalLM\n",
        "import torch\n"
      ]
    },
    {
      "cell_type": "code",
      "execution_count": 3,
      "metadata": {},
      "outputs": [],
      "source": [
        "device = torch.device(\"cuda:3\" if torch.cuda.is_available() else \"cpu\")"
      ]
    },
    {
      "cell_type": "code",
      "execution_count": 5,
      "metadata": {
        "id": "RBjCUIZ1Rw-W"
      },
      "outputs": [],
      "source": [
        "categories = ['Patient History', 'Patient Demographics', 'Primary Diagnoses', 'Pre-admit Diagnoses',\n",
        "       'Post-admit Diagnoses', 'Intervention', 'Allergies', 'Post-admit Diagnoses',\n",
        "       'Discharge Location (to)', 'Medications during treatment', 'Medications on Discharge',\n",
        "       'Post-discharge info (follow-ups, investigations, etc)', 'Treatment', 'Death Status']"
      ]
    },
    {
      "cell_type": "code",
      "execution_count": 3,
      "metadata": {
        "colab": {
          "base_uri": "https://localhost:8080/"
        },
        "id": "qwfEtiWlUcb3",
        "outputId": "077e4234-3859-4142-bc7a-a1e659855783"
      },
      "outputs": [
        {
          "name": "stderr",
          "output_type": "stream",
          "text": [
            "/tmp/ipykernel_1220410/4054733321.py:1: DtypeWarning: Columns (0,4,8,11,13,15,16,18,19,20,23,24,25,27,28,30,31,33,35,36,37,38,40,41,42,43,44,45,46,47,48,49,51,52,53,54,56,57,58,59,60,63,64,66,67,68,70,71,72,73,75,76,77,79,86,87,89,90,92,93,94,95,96,97,98,99,102,103,104,105,107,109,110,111,112,113,114,115,116,117,118,120,121,122,123,125,126,127,128,129,130,131,132,133,134,135,136,137,138,139,140,142,143,144,145,146,147,148,149,151,152,153,154,155,156,157,158,159,160,161,163,165,166,167,168,169,171,172,174,175,176,177,179) have mixed types. Specify dtype option on import or set low_memory=False.\n",
            "  df = pd.read_csv(\"/home/sael/EHR/physionet.org/patient_info.csv\")\n"
          ]
        }
      ],
      "source": [
        "df = pd.read_csv(\"/home/sael/EHR/physionet.org/patient_info.csv\")"
      ]
    },
    {
      "cell_type": "code",
      "execution_count": 4,
      "metadata": {
        "colab": {
          "base_uri": "https://localhost:8080/",
          "height": 35
        },
        "id": "Zsbn6GxY2LXl",
        "outputId": "ff5887f2-49c6-4050-d05b-368fa68de3ae"
      },
      "outputs": [],
      "source": [
        "df.iloc[0, 1] = \"Unique ID\""
      ]
    },
    {
      "cell_type": "code",
      "execution_count": 7,
      "metadata": {
        "colab": {
          "base_uri": "https://localhost:8080/",
          "height": 429
        },
        "id": "Q97al9Dz16yr",
        "outputId": "4c0fffd1-05dc-4fa3-b536-8b7e089b5699"
      },
      "outputs": [
        {
          "data": {
            "text/html": [
              "<div>\n",
              "<style scoped>\n",
              "    .dataframe tbody tr th:only-of-type {\n",
              "        vertical-align: middle;\n",
              "    }\n",
              "\n",
              "    .dataframe tbody tr th {\n",
              "        vertical-align: top;\n",
              "    }\n",
              "\n",
              "    .dataframe thead th {\n",
              "        text-align: right;\n",
              "    }\n",
              "</style>\n",
              "<table border=\"1\" class=\"dataframe\">\n",
              "  <thead>\n",
              "    <tr style=\"text-align: right;\">\n",
              "      <th></th>\n",
              "      <th>Category</th>\n",
              "      <th>Patient_ID</th>\n",
              "      <th>Patient History</th>\n",
              "      <th>Patient History.1</th>\n",
              "      <th>Patient History.2</th>\n",
              "      <th>Patient History.3</th>\n",
              "      <th>Patient History.4</th>\n",
              "      <th>Patient History.5</th>\n",
              "      <th>Patient History.6</th>\n",
              "      <th>Patient Demographics</th>\n",
              "      <th>...</th>\n",
              "      <th>Treatment.69</th>\n",
              "      <th>Treatment.70</th>\n",
              "      <th>Treatment.71</th>\n",
              "      <th>Treatment.72</th>\n",
              "      <th>Treatment.73</th>\n",
              "      <th>Treatment.74</th>\n",
              "      <th>Treatment.75</th>\n",
              "      <th>Death Status</th>\n",
              "      <th>Death Status.1</th>\n",
              "      <th>Death Status.2</th>\n",
              "    </tr>\n",
              "  </thead>\n",
              "  <tbody>\n",
              "    <tr>\n",
              "      <th>0</th>\n",
              "      <td>Column Name</td>\n",
              "      <td>Unique ID</td>\n",
              "      <td>admittime</td>\n",
              "      <td>admission_location</td>\n",
              "      <td>enter_provider_id</td>\n",
              "      <td>admit_provider_id</td>\n",
              "      <td>insurance</td>\n",
              "      <td>admission_type</td>\n",
              "      <td>charttime</td>\n",
              "      <td>anchor_year_group</td>\n",
              "      <td>...</td>\n",
              "      <td>admit_provider_id</td>\n",
              "      <td>orderid</td>\n",
              "      <td>dilution_comparison</td>\n",
              "      <td>order_status</td>\n",
              "      <td>amount</td>\n",
              "      <td>micro_specimen_id</td>\n",
              "      <td>ordercomponenttypedescription</td>\n",
              "      <td>deathtime</td>\n",
              "      <td>dod</td>\n",
              "      <td>hospital_expire_flag</td>\n",
              "    </tr>\n",
              "    <tr>\n",
              "      <th>1</th>\n",
              "      <td>0</td>\n",
              "      <td>10000032_22841357</td>\n",
              "      <td>2180-06-26 18:27:00</td>\n",
              "      <td>EMERGENCY ROOM</td>\n",
              "      <td>NaN</td>\n",
              "      <td>P09Q6Y</td>\n",
              "      <td>Medicaid</td>\n",
              "      <td>EW EMER.</td>\n",
              "      <td>NaN</td>\n",
              "      <td>2014 - 2016</td>\n",
              "      <td>...</td>\n",
              "      <td>P09Q6Y</td>\n",
              "      <td>NaN</td>\n",
              "      <td>NaN</td>\n",
              "      <td>Inactive</td>\n",
              "      <td>NaN</td>\n",
              "      <td>NaN</td>\n",
              "      <td>NaN</td>\n",
              "      <td>NaN</td>\n",
              "      <td>2180-09-09</td>\n",
              "      <td>0</td>\n",
              "    </tr>\n",
              "    <tr>\n",
              "      <th>2</th>\n",
              "      <td>1</td>\n",
              "      <td>10000032_22841357</td>\n",
              "      <td>2180-06-26 18:27:00</td>\n",
              "      <td>EMERGENCY ROOM</td>\n",
              "      <td>NaN</td>\n",
              "      <td>P09Q6Y</td>\n",
              "      <td>Medicaid</td>\n",
              "      <td>EW EMER.</td>\n",
              "      <td>NaN</td>\n",
              "      <td>2014 - 2016</td>\n",
              "      <td>...</td>\n",
              "      <td>P09Q6Y</td>\n",
              "      <td>NaN</td>\n",
              "      <td>NaN</td>\n",
              "      <td>Inactive</td>\n",
              "      <td>NaN</td>\n",
              "      <td>NaN</td>\n",
              "      <td>NaN</td>\n",
              "      <td>NaN</td>\n",
              "      <td>2180-09-09</td>\n",
              "      <td>0</td>\n",
              "    </tr>\n",
              "    <tr>\n",
              "      <th>3</th>\n",
              "      <td>2</td>\n",
              "      <td>10000032_22841357</td>\n",
              "      <td>2180-06-26 18:27:00</td>\n",
              "      <td>EMERGENCY ROOM</td>\n",
              "      <td>NaN</td>\n",
              "      <td>P09Q6Y</td>\n",
              "      <td>Medicaid</td>\n",
              "      <td>EW EMER.</td>\n",
              "      <td>NaN</td>\n",
              "      <td>2014 - 2016</td>\n",
              "      <td>...</td>\n",
              "      <td>P09Q6Y</td>\n",
              "      <td>NaN</td>\n",
              "      <td>NaN</td>\n",
              "      <td>Inactive</td>\n",
              "      <td>NaN</td>\n",
              "      <td>NaN</td>\n",
              "      <td>NaN</td>\n",
              "      <td>NaN</td>\n",
              "      <td>2180-09-09</td>\n",
              "      <td>0</td>\n",
              "    </tr>\n",
              "    <tr>\n",
              "      <th>4</th>\n",
              "      <td>3</td>\n",
              "      <td>10000032_22841357</td>\n",
              "      <td>2180-06-26 18:27:00</td>\n",
              "      <td>EMERGENCY ROOM</td>\n",
              "      <td>NaN</td>\n",
              "      <td>P09Q6Y</td>\n",
              "      <td>Medicaid</td>\n",
              "      <td>EW EMER.</td>\n",
              "      <td>NaN</td>\n",
              "      <td>2014 - 2016</td>\n",
              "      <td>...</td>\n",
              "      <td>P09Q6Y</td>\n",
              "      <td>NaN</td>\n",
              "      <td>NaN</td>\n",
              "      <td>Inactive</td>\n",
              "      <td>NaN</td>\n",
              "      <td>NaN</td>\n",
              "      <td>NaN</td>\n",
              "      <td>NaN</td>\n",
              "      <td>2180-09-09</td>\n",
              "      <td>0</td>\n",
              "    </tr>\n",
              "  </tbody>\n",
              "</table>\n",
              "<p>5 rows × 180 columns</p>\n",
              "</div>"
            ],
            "text/plain": [
              "      Category         Patient_ID      Patient History   Patient History.1  \\\n",
              "0  Column Name          Unique ID            admittime  admission_location   \n",
              "1            0  10000032_22841357  2180-06-26 18:27:00      EMERGENCY ROOM   \n",
              "2            1  10000032_22841357  2180-06-26 18:27:00      EMERGENCY ROOM   \n",
              "3            2  10000032_22841357  2180-06-26 18:27:00      EMERGENCY ROOM   \n",
              "4            3  10000032_22841357  2180-06-26 18:27:00      EMERGENCY ROOM   \n",
              "\n",
              "   Patient History.2  Patient History.3 Patient History.4 Patient History.5  \\\n",
              "0  enter_provider_id  admit_provider_id         insurance    admission_type   \n",
              "1                NaN             P09Q6Y          Medicaid          EW EMER.   \n",
              "2                NaN             P09Q6Y          Medicaid          EW EMER.   \n",
              "3                NaN             P09Q6Y          Medicaid          EW EMER.   \n",
              "4                NaN             P09Q6Y          Medicaid          EW EMER.   \n",
              "\n",
              "  Patient History.6 Patient Demographics  ...       Treatment.69 Treatment.70  \\\n",
              "0         charttime    anchor_year_group  ...  admit_provider_id      orderid   \n",
              "1               NaN          2014 - 2016  ...             P09Q6Y          NaN   \n",
              "2               NaN          2014 - 2016  ...             P09Q6Y          NaN   \n",
              "3               NaN          2014 - 2016  ...             P09Q6Y          NaN   \n",
              "4               NaN          2014 - 2016  ...             P09Q6Y          NaN   \n",
              "\n",
              "          Treatment.71  Treatment.72 Treatment.73       Treatment.74  \\\n",
              "0  dilution_comparison  order_status       amount  micro_specimen_id   \n",
              "1                  NaN      Inactive          NaN                NaN   \n",
              "2                  NaN      Inactive          NaN                NaN   \n",
              "3                  NaN      Inactive          NaN                NaN   \n",
              "4                  NaN      Inactive          NaN                NaN   \n",
              "\n",
              "                    Treatment.75 Death Status Death Status.1  \\\n",
              "0  ordercomponenttypedescription    deathtime            dod   \n",
              "1                            NaN          NaN     2180-09-09   \n",
              "2                            NaN          NaN     2180-09-09   \n",
              "3                            NaN          NaN     2180-09-09   \n",
              "4                            NaN          NaN     2180-09-09   \n",
              "\n",
              "         Death Status.2  \n",
              "0  hospital_expire_flag  \n",
              "1                     0  \n",
              "2                     0  \n",
              "3                     0  \n",
              "4                     0  \n",
              "\n",
              "[5 rows x 180 columns]"
            ]
          },
          "execution_count": 7,
          "metadata": {},
          "output_type": "execute_result"
        }
      ],
      "source": [
        "df.head()"
      ]
    },
    {
      "cell_type": "code",
      "execution_count": 6,
      "metadata": {
        "id": "0e8NV3AeFwGI"
      },
      "outputs": [],
      "source": [
        "def rectify(df):\n",
        "  new_cols = df.iloc[0]\n",
        "  orig_cols = [col.split('.')[0] for col in df.columns]\n",
        "  df.drop(df.index[0], inplace = True)\n",
        "  df.columns = pd.MultiIndex.from_tuples([col1, col2] for col1, col2 in zip(orig_cols, new_cols))\n",
        "  return df\n",
        "df = rectify(df)"
      ]
    },
    {
      "cell_type": "markdown",
      "metadata": {
        "id": "qwWF8SePaWoD"
      },
      "source": [
        "# **Creating the dictionary for indexing**"
      ]
    },
    {
      "cell_type": "code",
      "execution_count": 7,
      "metadata": {
        "id": "ke9U5hM6NTPR"
      },
      "outputs": [],
      "source": [
        "indexed_dict = {}\n",
        "for row in range(len(df)):\n",
        "  indexed_dict[df.iloc[row, 1]] = df.iloc[row, 2:]"
      ]
    },
    {
      "cell_type": "code",
      "execution_count": 8,
      "metadata": {
        "id": "GVg293ttLJNJ"
      },
      "outputs": [],
      "source": [
        "test_id = \"10000032_22841357\""
      ]
    },
    {
      "cell_type": "code",
      "execution_count": 12,
      "metadata": {
        "colab": {
          "base_uri": "https://localhost:8080/"
        },
        "id": "i3vdzcI2J-KP",
        "outputId": "0097e681-a006-48dd-b8a8-4679db1d0194"
      },
      "outputs": [
        {
          "data": {
            "text/plain": [
              "Index(['Patient History', 'Patient Demographics', 'Primary Diagnoses',\n",
              "       'Intervention', 'Discharge Location (to)',\n",
              "       'Medications during treatment',\n",
              "       'Post-discharge info (follow-ups, investigations, etc)', 'Treatment',\n",
              "       'Death Status'],\n",
              "      dtype='object')"
            ]
          },
          "execution_count": 12,
          "metadata": {},
          "output_type": "execute_result"
        }
      ],
      "source": [
        "indexed_dict[test_id].keys().get_level_values(0).unique()"
      ]
    },
    {
      "cell_type": "markdown",
      "metadata": {
        "id": "bK5bfka2adsZ"
      },
      "source": [
        "# **Retrieval Function**"
      ]
    },
    {
      "cell_type": "code",
      "execution_count": 9,
      "metadata": {
        "id": "N0xwQDB0KL6f"
      },
      "outputs": [],
      "source": [
        "def retrieval(id, indexed_dict):\n",
        "  if id in indexed_dict:\n",
        "    return indexed_dict[id]\n",
        "  else:\n",
        "    print(\"Entered ID doesn't exist in the records\")\n",
        "    return None"
      ]
    },
    {
      "cell_type": "markdown",
      "metadata": {
        "id": "aqe13LAjahUy"
      },
      "source": [
        "# **Augmentation step**"
      ]
    },
    {
      "cell_type": "code",
      "execution_count": 18,
      "metadata": {},
      "outputs": [
        {
          "name": "stdout",
          "output_type": "stream",
          "text": [
            "For the patient id - 10000032_22841357, note the following details from the Electronic Health Records:\n",
            "The admittime is 2180-06-26 18:27:00. \n",
            " The admission_location is EMERGENCY ROOM. \n",
            " The enter_provider_id is nan. \n",
            " The admit_provider_id is P09Q6Y. \n",
            " The insurance is Medicaid. \n",
            " The admission_type is EW EMER.. \n",
            " The charttime is nan. \n",
            " \n"
          ]
        }
      ],
      "source": [
        "test = indexed_dict[test_id].get(\"Patient History\")\n",
        "res = f'''For the patient id - {test_id}, note the following details from the Electronic Health Records:\\n'''\n",
        "for key, val in test.items():\n",
        "    res += f'''The {key} is {val}. \\n '''\n",
        "print(res)"
      ]
    },
    {
      "cell_type": "markdown",
      "metadata": {},
      "source": [
        "Base Model"
      ]
    },
    {
      "cell_type": "code",
      "execution_count": null,
      "metadata": {},
      "outputs": [],
      "source": [
        "# tokenizer = AutoTokenizer.from_pretrained(\"meta-llama/Meta-Llama-3-8B\")\n",
        "# model = AutoModelForCausalLM.from_pretrained(\"meta-llama/Meta-Llama-3-8B\")\n",
        "# tokenizer.pad_token_id = model.config.eos_token_id"
      ]
    },
    {
      "cell_type": "markdown",
      "metadata": {},
      "source": [
        "Chat model"
      ]
    },
    {
      "cell_type": "markdown",
      "metadata": {},
      "source": [
        "Llama 3 7B"
      ]
    },
    {
      "cell_type": "code",
      "execution_count": 16,
      "metadata": {},
      "outputs": [
        {
          "name": "stderr",
          "output_type": "stream",
          "text": [
            "Special tokens have been added in the vocabulary, make sure the associated word embeddings are fine-tuned or trained.\n",
            "Loading checkpoint shards: 100%|██████████████████████████████████████████████████████████| 4/4 [00:03<00:00,  1.20it/s]\n"
          ]
        }
      ],
      "source": [
        "tokenizer = AutoTokenizer.from_pretrained(\"meta-llama/Meta-Llama-3-8B-Instruct\")\n",
        "model = AutoModelForCausalLM.from_pretrained(\"meta-llama/Meta-Llama-3-8B-Instruct\")\n",
        "tokenizer.pad_token_id = model.config.eos_token_id"
      ]
    },
    {
      "cell_type": "code",
      "execution_count": null,
      "metadata": {},
      "outputs": [],
      "source": [
        "Mixtral 7 X 8 "
      ]
    },
    {
      "cell_type": "code",
      "execution_count": 13,
      "metadata": {},
      "outputs": [
        {
          "name": "stderr",
          "output_type": "stream",
          "text": [
            "Loading checkpoint shards: 100%|████████████████████████████████████████████████████████| 19/19 [10:34<00:00, 33.37s/it]\n"
          ]
        }
      ],
      "source": [
        "tokenizer = AutoTokenizer.from_pretrained(\"mistralai/Mixtral-8x7B-Instruct-v0.1\")\n",
        "model = AutoModelForCausalLM.from_pretrained(\"mistralai/Mixtral-8x7B-Instruct-v0.1\")\n",
        "tokenizer.pad_token_id = model.config.eos_token_id"
      ]
    },
    {
      "cell_type": "markdown",
      "metadata": {},
      "source": [
        "Gemini pro"
      ]
    },
    {
      "cell_type": "code",
      "execution_count": 12,
      "metadata": {},
      "outputs": [],
      "source": [
        "API_KEY = \"YOUR_API_KEY\""
      ]
    },
    {
      "cell_type": "code",
      "execution_count": 14,
      "metadata": {},
      "outputs": [],
      "source": [
        "import google.generativeai as genai\n",
        "import google.ai.generativelanguage as glm\n",
        "genai.configure(\n",
        "    api_key = API_KEY)"
      ]
    },
    {
      "cell_type": "code",
      "execution_count": 15,
      "metadata": {},
      "outputs": [
        {
          "name": "stdout",
          "output_type": "stream",
          "text": [
            "Model(name='models/gemini-pro',\n",
            "      base_model_id='',\n",
            "      version='001',\n",
            "      display_name='Gemini 1.0 Pro',\n",
            "      description='The best model for scaling across a wide range of tasks',\n",
            "      input_token_limit=30720,\n",
            "      output_token_limit=2048,\n",
            "      supported_generation_methods=['generateContent', 'countTokens'],\n",
            "      temperature=0.9,\n",
            "      top_p=1.0,\n",
            "      top_k=None) \n",
            "\n",
            "Model(name='models/gemini-pro-vision',\n",
            "      base_model_id='',\n",
            "      version='001',\n",
            "      display_name='Gemini 1.0 Pro Vision',\n",
            "      description='The best image understanding model to handle a broad range of applications',\n",
            "      input_token_limit=12288,\n",
            "      output_token_limit=4096,\n",
            "      supported_generation_methods=['generateContent', 'countTokens'],\n",
            "      temperature=0.4,\n",
            "      top_p=1.0,\n",
            "      top_k=32) \n",
            "\n"
          ]
        }
      ],
      "source": [
        "print(genai.get_model('models/gemini-pro'),'\\n')\n",
        "print(genai.get_model('models/gemini-pro-vision'),'\\n')"
      ]
    },
    {
      "cell_type": "code",
      "execution_count": 16,
      "metadata": {},
      "outputs": [],
      "source": [
        "model = genai.GenerativeModel(model_name=\"gemini-pro\")"
      ]
    },
    {
      "cell_type": "code",
      "execution_count": 29,
      "metadata": {},
      "outputs": [
        {
          "name": "stdout",
          "output_type": "stream",
          "text": [
            "**Discharge Summary**\n",
            "\n",
            "**Patient:** 10000032_22841357\n",
            "\n",
            "**Admission:**\n",
            "* Admitted to the Emergency Room on 2180-06-26 at 18:27:00\n",
            "* Admitted by: P09Q6Y\n",
            "* Admission type: EW EMER.\n",
            "* Insurance: Medicaid\n",
            "\n",
            "**Additional Information:**\n",
            "* No provider information is available for admission or discharge.\n",
            "* No chart time is available.\n"
          ]
        }
      ],
      "source": [
        "prompt = [\n",
        "    \"You are a medical AI agent tasked with generating a discharge summary based on the provided information about the patient.\",\n",
        "    \"Your task is to generate a coherent passage summarizing all the following information effectively, ensuring all important details are mentioned to be included in the Dischary Summary for the patient.\",\n",
        "    f\"{res}\",\n",
        "]\n",
        "response = model.generate_content(prompt)\n",
        "print(response.text)"
      ]
    },
    {
      "cell_type": "markdown",
      "metadata": {},
      "source": [
        "Instruct prompt"
      ]
    },
    {
      "cell_type": "code",
      "execution_count": 42,
      "metadata": {},
      "outputs": [],
      "source": [
        "test_id = \"10000032_22841357\"\n",
        "# categories = ['Patient History', 'Patient Demographics', 'Treatment']\n",
        "categories = ['Patient History', 'Patient Demographics', 'Primary Diagnoses', 'Pre-admit Diagnoses',\n",
        "       'Post-admit Diagnoses', 'Intervention', 'Allergies', 'Post-admit Diagnoses',\n",
        "       'Discharge Location (to)', 'Medications during treatment', 'Medications on Discharge',\n",
        "       'Post-discharge info (follow-ups, investigations, etc)', 'Treatment', 'Death Status']"
      ]
    },
    {
      "cell_type": "code",
      "execution_count": 45,
      "metadata": {},
      "outputs": [],
      "source": [
        "discharge_summary = \"\""
      ]
    },
    {
      "cell_type": "code",
      "execution_count": 48,
      "metadata": {},
      "outputs": [
        {
          "name": "stdout",
          "output_type": "stream",
          "text": [
            "Patient History : **Patient History**\n",
            "\n",
            "**Patient ID:** 10000032_22841357\n",
            "\n",
            "**Admit Time:** 2180-06-26 18:27:00\n",
            "\n",
            "**Admission Location:** EMERGENCY ROOM\n",
            "\n",
            "**Enter Provider ID:** nan\n",
            "\n",
            "**Admit Provider ID:** P09Q6Y\n",
            "\n",
            "**Insurance:** Medicaid\n",
            "\n",
            "**Admission Type:** EW EMER.\n",
            "\n",
            "**Charttime:** nan\n",
            "Patient Demographics : **Patient Demographics**\n",
            "\n",
            "**Patient ID:** 10000032_22841357\n",
            "\n",
            "**Subject ID:** 10000032\n",
            "\n",
            "**Gender:** Female (F)\n",
            "\n",
            "**Anchor Age:** 52 years\n",
            "\n",
            "**Anchor Year:** 2180\n",
            "\n",
            "**Anchor Year Group:** 2014 - 2016\n",
            "\n",
            "**Race:** White\n",
            "\n",
            "**Marital Status:** Widowed\n",
            "\n",
            "**Language:** English\n",
            "\n",
            "**Hospitalization ID:** 22841357\n",
            "Primary Diagnoses : **Patient ID:** 10000032_22841357\n",
            "\n",
            "**Primary Diagnosis:**\n",
            "\n",
            "**ICD-9 Code:** 5491\n",
            "\n",
            "**Description:** DISORDERS OF LIVER EXCEPT MALIG,CIRR,ALC HEPA W CC\n",
            "\n",
            "**DRG Characteristics:**\n",
            "\n",
            "**DRG Code:** 442\n",
            "\n",
            "**DRG Type:** HCFA\n",
            "\n",
            "**DRG Severity:** Not available\n",
            "\n",
            "**DRG Mortality:** Not available\n",
            "Intervention : **Intervention:**\n",
            "\n",
            "- **Intervention Type:** Unit Dose\n",
            "- **Administration Status:** Discontinued on 2180-06-27 23:00:00 due to patient discharge\n",
            "Discharge Location (to) : **Discharge Location:** HOME\n",
            "Patient History : **Patient History**\n",
            "\n",
            "**Patient ID:** 10000032_22841357\n",
            "\n",
            "**Admission Details:**\n",
            "\n",
            "* Admit Date/Time: 2180-06-26 18:27:00\n",
            "* Admission Location: EMERGENCY ROOM\n",
            "* Admitting Provider: P09Q6Y\n",
            "* Admission Type: EW EMER.\n",
            "\n",
            "**Insurance Information:**\n",
            "\n",
            "* Medicaid\n",
            "\n",
            "**Other Notes:**\n",
            "\n",
            "* No additional patient history information available from the provided data.\n",
            "Patient Demographics : **Patient Demographics**\n",
            "\n",
            "* Patient ID: 10000032_22841357\n",
            "* Anchor Year Group: 2014 - 2016\n",
            "* Anchor Year: 2180\n",
            "* Anchor Age: 52\n",
            "* Race: WHITE\n",
            "* Subject ID: 10000032\n",
            "* Gender: Female\n",
            "* Language: ENGLISH\n",
            "* Marital Status: WIDOWED\n",
            "Primary Diagnoses : **Primary Diagnoses:**\n",
            "\n",
            "**ICD-9 Code:** 5491\n",
            "**Description:** DISORDERS OF LIVER EXCEPT MALIG,CIRR,ALC HEPA W CC\n",
            "Intervention : **Intervention:**\n",
            "\n",
            "The patient was prescribed a Unit Dose medication with a sequence number of 99. The administration of this medication was discontinued via patient discharge on 2180-06-27 at 23:00:00. Additional details, such as the medication name, dosage, and frequency, are not available from the provided information.\n",
            "Discharge Location (to) : **Discharge Location (to):**\n",
            "\n",
            "The patient was discharged to their home.\n",
            "Patient History : **Patient History**\n",
            "\n",
            "Patient ID: 10000032_22841357\n",
            "\n",
            "* **Admission Date/Time:** 2180-06-26 18:27:00\n",
            "* **Admission Location:** EMERGENCY ROOM\n",
            "* **Admission Provider:** P09Q6Y\n",
            "* **Insurance:** Medicaid\n",
            "* **Admission Type:** EW EMER..\n",
            "Patient Demographics : **Patient Demographics**\n",
            "\n",
            "Patient Identifier: 10000032_22841357\n",
            "Anchor Year Group: 2014 - 2016\n",
            "Anchor Date: 2180\n",
            "Age at Anchor Date: 52\n",
            "Gender: Female\n",
            "Race: White\n",
            "Language: English\n",
            "Marital Status: Widowed\n",
            "Primary Diagnoses : **Primary Diagnoses:**\n",
            "\n",
            "**ICD-9 Code:** 5491\n",
            "**Description:** DISORDERS OF LIVER EXCEPT MALIG,CIRR,ALC HEPA W CC\n",
            "Intervention : **Intervention**\n",
            "\n",
            "- **Procedure Type:** Unit Dose\n",
            "- **Procedure Sequence:** 99\n",
            "- **Status:** Discontinued via patient discharge\n",
            "- **Discontinued Time:** 2180-06-27 23:00:00\n",
            "- **Entry Time:** 2180-06-27 17:23:38\n",
            "Discharge Location (to) : **Discharge Location:**\n",
            "\n",
            "**HOME**\n",
            "\n",
            "The patient will be discharged to their home address. Arrangements have been made for follow-up appointments and ongoing care as needed. The patient has received instructions on wound care, pain management, and activity restrictions.\n",
            "Medications during treatment : **Medications during treatment**\n",
            "\n",
            "The patient received Albumin 25% (12.5g / 50mL) via IV route, with a dose of 37.5g. The medication was administered ONCE daily for a duration of 1.0 Doses. The total volume infused was 50 mL Bag.\n",
            "Post-discharge info (follow-ups, investigations, etc) : **Post-Discharge Information:**\n",
            "\n",
            "The patient is expected to be discharged on 2180-06-27 at 18:49:00. As part of their post-discharge follow-up, they should schedule an appointment for:\n",
            "\n",
            "* Follow-up visit with their primary care physician within 1 week of discharge to review recovery and address any concerns.\n",
            "Treatment : **Patient ID:** 10000032_22841357\n",
            "\n",
            "**Treatment:**\n",
            "\n",
            "**Lab:**\n",
            "\n",
            "* DISORDERS OF LIVER EXCEPT MALIG,CIRR,ALC HEPA W CC\n",
            "* Order time: 2180-06-26 22:09:02\n",
            "* Result: Not provided\n",
            "Death Status : **Death Status:**\n",
            "\n",
            "The patient passed away on 2180-09-09. The exact time of death is not recorded in the medical records. As of the last update, the patient was deceased and not in the hospital at the time of death.\n",
            "\n"
          ]
        }
      ],
      "source": [
        "for cat in categories:\n",
        "    # Getting information for the DST category\n",
        "    category_info = indexed_dict[test_id].get(cat)\n",
        "    info_para = f'''For the patient id - {test_id}, note the following details from the Electronic Health Records for the category - {cat}:\\n'''\n",
        "    if category_info is not None:\n",
        "        for key, val in category_info.items():\n",
        "            info_para += f'''The {key} is {val}. \\n '''\n",
        "        prompt = [\n",
        "    \"You are a medical AI agent tasked with generating a discharge summary based on the provided information about the patient.\",\n",
        "    \"Your task is to generate a coherent passage summarizing all the following information effectively, ensuring all important details are mentioned to be included in the corresponding Dischary Summary category for the patient.\",\n",
        "    f\"{info_para}\",\n",
        "                ]\n",
        "        # print(prompt)\n",
        "        # break\n",
        "        generated_text = model.generate_content(prompt)\n",
        "        if generated_text is not None:\n",
        "            discharge_summary += f\"{cat} : {generated_text.text}\\n\"\n",
        "print(discharge_summary)"
      ]
    },
    {
      "cell_type": "markdown",
      "metadata": {},
      "source": [
        "For HuggingFace Loaded models"
      ]
    },
    {
      "cell_type": "code",
      "execution_count": 21,
      "metadata": {},
      "outputs": [],
      "source": [
        "def generate_discharge_summary(id, indexed_dict, categories, model, tokenizer):\n",
        "  # Retrieving information for the input ID (subject_id + hadm_id)\n",
        "  patient_info_dict = retrieval(id, indexed_dict)\n",
        "  if patient_info_dict is None:\n",
        "    return \"Error: Patient ID not found in records.\"\n",
        "\n",
        "  # Generating text for each category and then concatenating it one below the other\n",
        "  discharge_summary = \"\"\n",
        "\n",
        "  # Iterating through each category\n",
        "  for cat in categories:\n",
        "    # Getting information for the DST category\n",
        "    category_info = patient_info_dict.get(cat)\n",
        "    info_para = f'''For the patient id - {id}, note the following details from the Electronic Health Records for the category - {cat}:\\n'''\n",
        "    for key, val in category_info.items():\n",
        "        info_para += f'''The {key} is {val}. \\n '''\n",
        "\n",
        "    if category_info is not None:\n",
        "\n",
        "        messages = [\n",
        "          {\n",
        "            \"role\" : \"system\",\n",
        "            \"content\" : \"You are a medical AI agent tasked with generating a discharge summary based on the provided information about the patient.\"\n",
        "\n",
        "          },\n",
        "          {\n",
        "            \"role\" : \"user\",\n",
        "            \"content\" : f'''\n",
        "            {info_para} \\n\n",
        "            Your task is to generate a coherent passage summarizing all the available information effectively, \n",
        "            ensuring all important details are mentioned to be included in the Dischary Summary for the patient.\n",
        "        '''\n",
        "          }\n",
        "        ]\n",
        "        inputs = tokenizer.apply_chat_template(messages, tokenize=True, add_generation_prompt=True, return_tensors=\"pt\").to(device)\n",
        "        with torch.no_grad():\n",
        "            outputs = model.generate(inputs, temperature=0.7, max_length=1000, repetition_penalty=1.9, do_sample=True)\n",
        "        generated_text = tokenizer.decode(outputs[0], skip_special_tokens=False)\n",
        "        generated_text = generated_text.split(\"assistant<|end_header_id|>\")[1]\n",
        "        # Combining category title and the generated information\n",
        "        discharge_summary += f\"{cat} : {generated_text}\\n\"\n",
        "\n",
        "  return discharge_summary"
      ]
    },
    {
      "cell_type": "code",
      "execution_count": null,
      "metadata": {
        "colab": {
          "base_uri": "https://localhost:8080/",
          "height": 280
        },
        "id": "QWgVaVUmAPY2",
        "outputId": "2f284490-8959-45b6-a666-fc92d84d8791"
      },
      "outputs": [],
      "source": [
        "cache = generate_discharge_summary(test_id, indexed_dict, categories, model)\n",
        "print(cache)"
      ]
    },
    {
      "cell_type": "code",
      "execution_count": null,
      "metadata": {
        "id": "v3fYfFPCKLwD"
      },
      "outputs": [],
      "source": []
    }
  ],
  "metadata": {
    "colab": {
      "provenance": []
    },
    "kernelspec": {
      "display_name": "Python 3 (ipykernel)",
      "language": "python",
      "name": "python3"
    },
    "language_info": {
      "codemirror_mode": {
        "name": "ipython",
        "version": 3
      },
      "file_extension": ".py",
      "mimetype": "text/x-python",
      "name": "python",
      "nbconvert_exporter": "python",
      "pygments_lexer": "ipython3",
      "version": "3.10.14"
    }
  },
  "nbformat": 4,
  "nbformat_minor": 0
}
